{
 "cells": [
  {
   "cell_type": "code",
   "execution_count": 5,
   "metadata": {},
   "outputs": [
    {
     "name": "stdout",
     "output_type": "stream",
     "text": [
      "Enter your name: Ashpreet\n",
      "Enter your age: 21\n",
      "you will turn 100 in the year 2100\n"
     ]
    }
   ],
   "source": [
    "import datetime\n",
    "\n",
    "name = input('Enter your name: ')\n",
    "age = int(input('Enter your age: '))\n",
    "\n",
    "year = datetime.datetime.now().year - age + 100\n",
    "out = 'you will turn 100 in the year ' + str(year)\n",
    "\n",
    "print(out)"
   ]
  },
  {
   "cell_type": "code",
   "execution_count": 6,
   "metadata": {},
   "outputs": [
    {
     "name": "stdout",
     "output_type": "stream",
     "text": [
      "Enter number of copies to print of the message: 5\n",
      "you will turn 100 in the year 2100\n",
      "you will turn 100 in the year 2100\n",
      "you will turn 100 in the year 2100\n",
      "you will turn 100 in the year 2100\n",
      "you will turn 100 in the year 2100\n",
      "\n"
     ]
    }
   ],
   "source": [
    "n = int(input('Enter number of copies to print of the message: '))\n",
    "out = out + '\\n'\n",
    "print(out * n)"
   ]
  },
  {
   "cell_type": "code",
   "execution_count": 7,
   "metadata": {},
   "outputs": [
    {
     "name": "stdout",
     "output_type": "stream",
     "text": [
      "Numbers less than 5 in your list are : \n",
      "\n",
      "1\n",
      "2\n",
      "3\n",
      "-1\n"
     ]
    }
   ],
   "source": [
    "arr = [1, 2, 3, 100, -1, 200, 300]\n",
    "print('Numbers less than 5 in your list are : \\n')\n",
    "for i in arr:\n",
    "    if i<5: \n",
    "      print(i)"
   ]
  },
  {
   "cell_type": "code",
   "execution_count": 9,
   "metadata": {},
   "outputs": [
    {
     "name": "stdout",
     "output_type": "stream",
     "text": [
      "[1, 2, 3, -1]\n",
      "Enter a number : 2\n",
      "[1, -1]\n"
     ]
    }
   ],
   "source": [
    "arr2 = [i for i in arr if i<5]\n",
    "\n",
    "print(arr2)\n",
    "\n",
    "filter = int(input('Enter a number : '))\n",
    "\n",
    "arr3 = [i for i in arr if i<filter]\n",
    "\n",
    "print(arr3)"
   ]
  },
  {
   "cell_type": "code",
   "execution_count": 10,
   "metadata": {},
   "outputs": [
    {
     "name": "stdout",
     "output_type": "stream",
     "text": [
      "Enter number of Fibonacci numbers to generate: 5\n",
      "0\n",
      "1\n",
      "1\n",
      "2\n",
      "3\n"
     ]
    }
   ],
   "source": [
    "def getFibo(n):\n",
    "  if n <= 1:\n",
    "       return n\n",
    "  else:\n",
    "       return(getFibo(n-1) + getFibo(n-2))\n",
    "\n",
    "n = int(input('Enter number of Fibonacci numbers to generate: '))\n",
    "\n",
    "for i in range(n):\n",
    "  print(getFibo(i))"
   ]
  },
  {
   "cell_type": "code",
   "execution_count": 11,
   "metadata": {},
   "outputs": [
    {
     "name": "stdout",
     "output_type": "stream",
     "text": [
      "List without duplicate elements using loop: [1, 4, 7, 5, 8, 6, 3, 2, 9]\n",
      "\n",
      "List without duplicate elements using sets: [1, 2, 3, 4, 5, 6, 7, 8, 9]\n",
      "\n"
     ]
    }
   ],
   "source": [
    "def listWithoutDuplicatesUsingLoop(l):\n",
    "  new_list = []\n",
    "\n",
    "  for i in l:\n",
    "    if i not in new_list:\n",
    "      new_list.append(i)\n",
    "\n",
    "  return new_list\n",
    "\n",
    "def listWithoutDuplicatesUsingSets(l):\n",
    "  new_set = set(l)\n",
    "  new_list = list(new_set)\n",
    "  \n",
    "  return new_list\n",
    "\n",
    "aList = [1,4,1,7,1,5,8,6,3,1,4,7,8,5,3,6,8,2,1,5,9,9,9,6,3]\n",
    "\n",
    "print('List without duplicate elements using loop: ' + str(listWithoutDuplicatesUsingLoop(aList)) + '\\n')\n",
    "\n",
    "print('List without duplicate elements using sets: ' + str(listWithoutDuplicatesUsingSets(aList)) + '\\n')"
   ]
  },
  {
   "cell_type": "code",
   "execution_count": 23,
   "metadata": {},
   "outputs": [
    {
     "name": "stdout",
     "output_type": "stream",
     "text": [
      "Enter a number to check if it is prime or not: 2\n",
      "\n",
      "2 is a prime number\n"
     ]
    }
   ],
   "source": [
    "import math\n",
    "\n",
    "def ifPrime(num):\n",
    "\n",
    "  for i in range(2, int(math.sqrt(num))):\n",
    "    if num % i == 0:\n",
    "      return ' is not a prime number.'\n",
    "\n",
    "  return ' is a prime number'\n",
    "\n",
    "n = int(input('Enter a number to check if it is prime or not: '))\n",
    "\n",
    "print('\\n' + str(n) + ifPrime(n))   \n"
   ]
  }
 ],
 "metadata": {
  "kernelspec": {
   "display_name": "Python 3",
   "language": "python",
   "name": "python3"
  },
  "language_info": {
   "codemirror_mode": {
    "name": "ipython",
    "version": 3
   },
   "file_extension": ".py",
   "mimetype": "text/x-python",
   "name": "python",
   "nbconvert_exporter": "python",
   "pygments_lexer": "ipython3",
   "version": "3.8.3"
  }
 },
 "nbformat": 4,
 "nbformat_minor": 4
}
